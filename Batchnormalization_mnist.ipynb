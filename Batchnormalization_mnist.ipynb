{
  "nbformat": 4,
  "nbformat_minor": 0,
  "metadata": {
    "colab": {
      "provenance": [],
      "gpuType": "T4"
    },
    "kernelspec": {
      "name": "python3",
      "display_name": "Python 3"
    },
    "language_info": {
      "name": "python"
    },
    "accelerator": "GPU"
  },
  "cells": [
    {
      "cell_type": "code",
      "execution_count": 3,
      "metadata": {
        "id": "4fRTkqIEa4z8"
      },
      "outputs": [],
      "source": [
        "import tensorflow as tf\n",
        "import numpy as np\n",
        "import matplotlib.pyplot as plt\n",
        "import time"
      ]
    },
    {
      "cell_type": "code",
      "source": [
        "mnist=tf.keras.datasets.mnist\n",
        "(X_train_full,y_train_full),(X_test,y_test)=mnist.load_data()"
      ],
      "metadata": {
        "colab": {
          "base_uri": "https://localhost:8080/"
        },
        "id": "dDhrMTZMbAXH",
        "outputId": "7b4a22af-e1c4-4902-86ff-2e1b4382ee65"
      },
      "execution_count": 4,
      "outputs": [
        {
          "output_type": "stream",
          "name": "stdout",
          "text": [
            "Downloading data from https://storage.googleapis.com/tensorflow/tf-keras-datasets/mnist.npz\n",
            "11490434/11490434 [==============================] - 0s 0us/step\n"
          ]
        }
      ]
    },
    {
      "cell_type": "code",
      "source": [
        "#apply scaling(minmax)\n",
        "X_valid,X_train = X_train_full[:5000]/255. , X_train_full[5000:]/255.\n",
        "y_valid,y_train = y_train_full[:5000],y_train_full[5000:]\n",
        "\n",
        "#test_data(scale)\n",
        "X_test = X_test / 255."
      ],
      "metadata": {
        "id": "deYLEyC0bKkm"
      },
      "execution_count": 5,
      "outputs": []
    },
    {
      "cell_type": "code",
      "source": [
        "X_train_full.shape,y_train_full.shape"
      ],
      "metadata": {
        "colab": {
          "base_uri": "https://localhost:8080/"
        },
        "id": "ekj1IskwcGE3",
        "outputId": "cd3c7f0f-a9b8-4c1e-85a9-5f28107459da"
      },
      "execution_count": 6,
      "outputs": [
        {
          "output_type": "execute_result",
          "data": {
            "text/plain": [
              "((60000, 28, 28), (60000,))"
            ]
          },
          "metadata": {},
          "execution_count": 6
        }
      ]
    },
    {
      "cell_type": "code",
      "source": [
        "X_test.shape,y_test.shape"
      ],
      "metadata": {
        "colab": {
          "base_uri": "https://localhost:8080/"
        },
        "id": "wvllCwakccvp",
        "outputId": "641dd464-369e-460d-c9ca-a74b7a5e50de"
      },
      "execution_count": 7,
      "outputs": [
        {
          "output_type": "execute_result",
          "data": {
            "text/plain": [
              "((10000, 28, 28), (10000,))"
            ]
          },
          "metadata": {},
          "execution_count": 7
        }
      ]
    },
    {
      "cell_type": "code",
      "source": [
        "X_valid.shape,X_train.shape,y_valid.shape,y_train.shape"
      ],
      "metadata": {
        "colab": {
          "base_uri": "https://localhost:8080/"
        },
        "id": "k2ueKiKicjXs",
        "outputId": "98b8ecb5-0bcd-4d4a-8c40-ebff8843be89"
      },
      "execution_count": 11,
      "outputs": [
        {
          "output_type": "execute_result",
          "data": {
            "text/plain": [
              "((5000, 28, 28), (55000, 28, 28), (5000,), (55000,))"
            ]
          },
          "metadata": {},
          "execution_count": 11
        }
      ]
    },
    {
      "cell_type": "code",
      "source": [
        "#neural network\n",
        "LAYERS = [\n",
        "      tf.keras.layers.Flatten(input_shape = [28,28]), #input layer\n",
        "      tf.keras.layers.Dense(300, kernel_initializer=\"he_normal\"), #dense layer with weight initalization\n",
        "      tf.keras.layers.LeakyReLU(),\n",
        "      tf.keras.layers.Dense(100, kernel_initializer=\"he_normal\"),\n",
        "      tf.keras.layers.LeakyReLU(),\n",
        "      tf.keras.layers.Dense(10, activation='softmax') #output layer\n",
        "\n",
        "]\n",
        "\n",
        "model = tf.keras.models.Sequential(LAYERS)"
      ],
      "metadata": {
        "id": "uNok6SArcoWe"
      },
      "execution_count": 12,
      "outputs": []
    },
    {
      "cell_type": "code",
      "source": [
        "model.compile(loss = 'sparse_categorical_crossentropy', optimizer= tf.keras.optimizers.SGD(learning_rate=1e-3), metrics=['accuracy'])"
      ],
      "metadata": {
        "id": "zt5-z747djrP"
      },
      "execution_count": 13,
      "outputs": []
    },
    {
      "cell_type": "code",
      "source": [
        "model.summary()"
      ],
      "metadata": {
        "colab": {
          "base_uri": "https://localhost:8080/"
        },
        "id": "-WC0ARYfdtsm",
        "outputId": "6f1933a1-907a-4d3e-f97b-94777d53ea88"
      },
      "execution_count": 15,
      "outputs": [
        {
          "output_type": "stream",
          "name": "stdout",
          "text": [
            "Model: \"sequential\"\n",
            "_________________________________________________________________\n",
            " Layer (type)                Output Shape              Param #   \n",
            "=================================================================\n",
            " flatten (Flatten)           (None, 784)               0         \n",
            "                                                                 \n",
            " dense (Dense)               (None, 300)               235500    \n",
            "                                                                 \n",
            " leaky_re_lu (LeakyReLU)     (None, 300)               0         \n",
            "                                                                 \n",
            " dense_1 (Dense)             (None, 100)               30100     \n",
            "                                                                 \n",
            " leaky_re_lu_1 (LeakyReLU)   (None, 100)               0         \n",
            "                                                                 \n",
            " dense_2 (Dense)             (None, 10)                1010      \n",
            "                                                                 \n",
            "=================================================================\n",
            "Total params: 266610 (1.02 MB)\n",
            "Trainable params: 266610 (1.02 MB)\n",
            "Non-trainable params: 0 (0.00 Byte)\n",
            "_________________________________________________________________\n"
          ]
        }
      ]
    },
    {
      "cell_type": "code",
      "source": [
        "start = time.time()\n",
        "\n",
        "history = model.fit(X_train, y_train, epochs=10,\n",
        "                    validation_data=(X_valid, y_valid))\n",
        "\n",
        "\n",
        "end = time.time()\n",
        "\n",
        "\n",
        "#total time\n",
        "print(f\"Runtime of the program is {end - start}\")"
      ],
      "metadata": {
        "colab": {
          "base_uri": "https://localhost:8080/"
        },
        "id": "HWXBG3NHdvNW",
        "outputId": "7a34f8d3-e2b8-4a77-8808-3ea832b36d2c"
      },
      "execution_count": 16,
      "outputs": [
        {
          "output_type": "stream",
          "name": "stdout",
          "text": [
            "Epoch 1/10\n",
            "1719/1719 [==============================] - 9s 4ms/step - loss: 1.4485 - accuracy: 0.6253 - val_loss: 0.8694 - val_accuracy: 0.8116\n",
            "Epoch 2/10\n",
            "1719/1719 [==============================] - 7s 4ms/step - loss: 0.7067 - accuracy: 0.8332 - val_loss: 0.5675 - val_accuracy: 0.8674\n",
            "Epoch 3/10\n",
            "1719/1719 [==============================] - 7s 4ms/step - loss: 0.5288 - accuracy: 0.8632 - val_loss: 0.4631 - val_accuracy: 0.8800\n",
            "Epoch 4/10\n",
            "1719/1719 [==============================] - 8s 5ms/step - loss: 0.4536 - accuracy: 0.8789 - val_loss: 0.4089 - val_accuracy: 0.8902\n",
            "Epoch 5/10\n",
            "1719/1719 [==============================] - 7s 4ms/step - loss: 0.4112 - accuracy: 0.8874 - val_loss: 0.3750 - val_accuracy: 0.8976\n",
            "Epoch 6/10\n",
            "1719/1719 [==============================] - 8s 4ms/step - loss: 0.3832 - accuracy: 0.8939 - val_loss: 0.3525 - val_accuracy: 0.9016\n",
            "Epoch 7/10\n",
            "1719/1719 [==============================] - 7s 4ms/step - loss: 0.3630 - accuracy: 0.8991 - val_loss: 0.3354 - val_accuracy: 0.9058\n",
            "Epoch 8/10\n",
            "1719/1719 [==============================] - 8s 4ms/step - loss: 0.3475 - accuracy: 0.9028 - val_loss: 0.3225 - val_accuracy: 0.9106\n",
            "Epoch 9/10\n",
            "1719/1719 [==============================] - 8s 4ms/step - loss: 0.3351 - accuracy: 0.9059 - val_loss: 0.3109 - val_accuracy: 0.9132\n",
            "Epoch 10/10\n",
            "1719/1719 [==============================] - 7s 4ms/step - loss: 0.3245 - accuracy: 0.9087 - val_loss: 0.3022 - val_accuracy: 0.9144\n",
            "Runtime of the program is 84.25795722007751\n"
          ]
        }
      ]
    },
    {
      "cell_type": "markdown",
      "source": [
        "BATCH NORMALIZATION"
      ],
      "metadata": {
        "id": "AtL7x701efrz"
      }
    },
    {
      "cell_type": "code",
      "source": [
        "#del model(delete the previious model)"
      ],
      "metadata": {
        "id": "djl0tn_6eGwI"
      },
      "execution_count": 1,
      "outputs": []
    },
    {
      "cell_type": "code",
      "source": [
        "LAYERS = [\n",
        "      tf.keras.layers.Flatten(input_shape = [28,28]),\n",
        "      tf.keras.layers.BatchNormalization(),                      #batch normalization\n",
        "      tf.keras.layers.Dense(300, kernel_initializer=\"he_normal\"),\n",
        "      tf.keras.layers.LeakyReLU(),\n",
        "      tf.keras.layers.BatchNormalization(),\n",
        "      tf.keras.layers.Dense(100, kernel_initializer=\"he_normal\"),\n",
        "      tf.keras.layers.LeakyReLU(),\n",
        "      tf.keras.layers.BatchNormalization(),\n",
        "      tf.keras.layers.Dense(10, activation='softmax')\n",
        "\n",
        "]\n",
        "\n",
        "model2 = tf.keras.models.Sequential(LAYERS)"
      ],
      "metadata": {
        "id": "4znXPidNerlP"
      },
      "execution_count": 6,
      "outputs": []
    },
    {
      "cell_type": "code",
      "source": [
        "model2.summary()"
      ],
      "metadata": {
        "colab": {
          "base_uri": "https://localhost:8080/"
        },
        "id": "ifKEvJNke3Uw",
        "outputId": "0951cf33-c25c-4f29-f345-c92ac42bc0c6"
      },
      "execution_count": 7,
      "outputs": [
        {
          "output_type": "stream",
          "name": "stdout",
          "text": [
            "Model: \"sequential\"\n",
            "_________________________________________________________________\n",
            " Layer (type)                Output Shape              Param #   \n",
            "=================================================================\n",
            " flatten (Flatten)           (None, 784)               0         \n",
            "                                                                 \n",
            " batch_normalization (Batch  (None, 784)               3136      \n",
            " Normalization)                                                  \n",
            "                                                                 \n",
            " dense (Dense)               (None, 300)               235500    \n",
            "                                                                 \n",
            " leaky_re_lu (LeakyReLU)     (None, 300)               0         \n",
            "                                                                 \n",
            " batch_normalization_1 (Bat  (None, 300)               1200      \n",
            " chNormalization)                                                \n",
            "                                                                 \n",
            " dense_1 (Dense)             (None, 100)               30100     \n",
            "                                                                 \n",
            " leaky_re_lu_1 (LeakyReLU)   (None, 100)               0         \n",
            "                                                                 \n",
            " batch_normalization_2 (Bat  (None, 100)               400       \n",
            " chNormalization)                                                \n",
            "                                                                 \n",
            " dense_2 (Dense)             (None, 10)                1010      \n",
            "                                                                 \n",
            "=================================================================\n",
            "Total params: 271346 (1.04 MB)\n",
            "Trainable params: 268978 (1.03 MB)\n",
            "Non-trainable params: 2368 (9.25 KB)\n",
            "_________________________________________________________________\n"
          ]
        }
      ]
    },
    {
      "cell_type": "code",
      "source": [
        "model2.compile(loss = 'sparse_categorical_crossentropy', optimizer= tf.keras.optimizers.SGD(learning_rate=1e-3), metrics=['accuracy'])"
      ],
      "metadata": {
        "id": "fAqAH-UdfIjZ"
      },
      "execution_count": 8,
      "outputs": []
    },
    {
      "cell_type": "code",
      "source": [
        "start = time.time()\n",
        "\n",
        "history = model2.fit(X_train, y_train, epochs=10,\n",
        "                    validation_data=(X_valid, y_valid))\n",
        "\n",
        "\n",
        "end = time.time()\n",
        "\n",
        "\n",
        "#total time\n",
        "print(f\"Runtime of the program is {end - start}\")"
      ],
      "metadata": {
        "colab": {
          "base_uri": "https://localhost:8080/"
        },
        "id": "VfTugNC8fQ8U",
        "outputId": "f4fac576-b7f3-44b5-d71c-7a489ee8dff3"
      },
      "execution_count": 9,
      "outputs": [
        {
          "output_type": "stream",
          "name": "stdout",
          "text": [
            "Epoch 1/10\n",
            "1719/1719 [==============================] - 16s 6ms/step - loss: 0.9190 - accuracy: 0.7191 - val_loss: 0.4987 - val_accuracy: 0.8520\n",
            "Epoch 2/10\n",
            "1719/1719 [==============================] - 9s 5ms/step - loss: 0.4878 - accuracy: 0.8570 - val_loss: 0.3828 - val_accuracy: 0.8874\n",
            "Epoch 3/10\n",
            "1719/1719 [==============================] - 9s 5ms/step - loss: 0.4126 - accuracy: 0.8797 - val_loss: 0.3318 - val_accuracy: 0.9034\n",
            "Epoch 4/10\n",
            "1719/1719 [==============================] - 9s 5ms/step - loss: 0.3712 - accuracy: 0.8907 - val_loss: 0.3036 - val_accuracy: 0.9108\n",
            "Epoch 5/10\n",
            "1719/1719 [==============================] - 9s 5ms/step - loss: 0.3462 - accuracy: 0.8994 - val_loss: 0.2847 - val_accuracy: 0.9164\n",
            "Epoch 6/10\n",
            "1719/1719 [==============================] - 10s 6ms/step - loss: 0.3227 - accuracy: 0.9059 - val_loss: 0.2699 - val_accuracy: 0.9198\n",
            "Epoch 7/10\n",
            "1719/1719 [==============================] - 11s 6ms/step - loss: 0.3062 - accuracy: 0.9114 - val_loss: 0.2565 - val_accuracy: 0.9260\n",
            "Epoch 8/10\n",
            "1719/1719 [==============================] - 9s 5ms/step - loss: 0.2952 - accuracy: 0.9141 - val_loss: 0.2464 - val_accuracy: 0.9282\n",
            "Epoch 9/10\n",
            "1719/1719 [==============================] - 9s 5ms/step - loss: 0.2842 - accuracy: 0.9181 - val_loss: 0.2368 - val_accuracy: 0.9324\n",
            "Epoch 10/10\n",
            "1719/1719 [==============================] - 10s 6ms/step - loss: 0.2759 - accuracy: 0.9196 - val_loss: 0.2297 - val_accuracy: 0.9354\n",
            "Runtime of the program is 100.87890601158142\n"
          ]
        }
      ]
    },
    {
      "cell_type": "code",
      "source": [],
      "metadata": {
        "id": "iwAeYEt5fTHM"
      },
      "execution_count": null,
      "outputs": []
    }
  ]
}